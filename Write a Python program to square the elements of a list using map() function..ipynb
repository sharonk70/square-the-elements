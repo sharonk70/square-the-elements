{
 "cells": [
  {
   "cell_type": "code",
   "execution_count": 7,
   "id": "a9a54fd6",
   "metadata": {},
   "outputs": [
    {
     "name": "stdout",
     "output_type": "stream",
     "text": [
      "Use comma while giving input :4,5,2,9\n",
      "Number :  [4, 5, 2, 9]\n",
      "Square :\n",
      "[16, 25, 4, 81]\n"
     ]
    }
   ],
   "source": [
    "def square_no_(n):\n",
    "    return n * n\n",
    "x= list(map(int,input('Use comma while giving input :').split(\",\")))\n",
    "print(\"Number : \",x)\n",
    "y = map(square_no_, x)\n",
    "print(\"Square :\")\n",
    "print(list(y))"
   ]
  },
  {
   "cell_type": "code",
   "execution_count": null,
   "id": "b4025cdb",
   "metadata": {},
   "outputs": [],
   "source": []
  }
 ],
 "metadata": {
  "kernelspec": {
   "display_name": "Python 3",
   "language": "python",
   "name": "python3"
  },
  "language_info": {
   "codemirror_mode": {
    "name": "ipython",
    "version": 3
   },
   "file_extension": ".py",
   "mimetype": "text/x-python",
   "name": "python",
   "nbconvert_exporter": "python",
   "pygments_lexer": "ipython3",
   "version": "3.8.8"
  }
 },
 "nbformat": 4,
 "nbformat_minor": 5
}
